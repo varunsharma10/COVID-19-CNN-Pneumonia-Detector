{
 "cells": [
  {
   "cell_type": "markdown",
   "metadata": {
    "id": "JEj4v-9ysitW"
   },
   "source": [
    "# COVID-19 CNN Pneumonia Detector"
   ]
  },
  {
   "cell_type": "markdown",
   "metadata": {
    "id": "AXRqi33rujlm"
   },
   "source": [
    "### Importing Library"
   ]
  },
  {
   "cell_type": "code",
   "execution_count": 1,
   "metadata": {
    "id": "l5oe5xgJtmc9"
   },
   "outputs": [],
   "source": [
    "import pandas as pd\n",
    "import numpy as np\n",
    "import tensorflow as tf\n",
    "import matplotlib.pyplot as plt\n",
    "from keras.preprocessing.image import ImageDataGenerator"
   ]
  },
  {
   "cell_type": "markdown",
   "metadata": {
    "id": "cEDB2eytur3G"
   },
   "source": [
    "### Preprocessing the training set"
   ]
  },
  {
   "cell_type": "code",
   "execution_count": 2,
   "metadata": {
    "id": "hnYEVSk3tnH9"
   },
   "outputs": [
    {
     "name": "stdout",
     "output_type": "stream",
     "text": [
      "Found 148 images belonging to 2 classes.\n"
     ]
    }
   ],
   "source": [
    "train_datagen = ImageDataGenerator(rescale = 1./255,shear_range = 0.2,zoom_range = 0.2,horizontal_flip = True)\n",
    "training_set = train_datagen.flow_from_directory('xray_dataset_covid19/train',target_size = (64, 64),batch_size = 32,class_mode = 'binary')"
   ]
  },
  {
   "cell_type": "markdown",
   "metadata": {
    "id": "txEBAn9mus9d"
   },
   "source": [
    "### Preprocessing the test set"
   ]
  },
  {
   "cell_type": "code",
   "execution_count": 3,
   "metadata": {
    "id": "KMRlGEDxtnRd"
   },
   "outputs": [
    {
     "name": "stdout",
     "output_type": "stream",
     "text": [
      "Found 40 images belonging to 2 classes.\n"
     ]
    }
   ],
   "source": [
    "test_datagen = ImageDataGenerator(rescale = 1./255)\n",
    "test_set = test_datagen.flow_from_directory('xray_dataset_covid19/test',target_size = (64, 64),batch_size = 32,class_mode = 'binary')"
   ]
  },
  {
   "cell_type": "markdown",
   "metadata": {
    "id": "a3RTeIgbvMC-"
   },
   "source": [
    "### Building CNN"
   ]
  },
  {
   "cell_type": "code",
   "execution_count": 4,
   "metadata": {
    "id": "o5c_RFrlvSd7"
   },
   "outputs": [],
   "source": [
    "cnn = tf.keras.models.Sequential()"
   ]
  },
  {
   "cell_type": "code",
   "execution_count": 5,
   "metadata": {
    "id": "AEjrQKv8wvoD"
   },
   "outputs": [],
   "source": [
    "cnn.add(tf.keras.layers.Conv2D(filters=32, kernel_size=3, activation='relu', input_shape=[64, 64, 3]))"
   ]
  },
  {
   "cell_type": "code",
   "execution_count": 6,
   "metadata": {
    "id": "-RYwRL3TwvuU"
   },
   "outputs": [],
   "source": [
    "cnn.add(tf.keras.layers.MaxPool2D(pool_size=2, strides=2))"
   ]
  },
  {
   "cell_type": "code",
   "execution_count": 7,
   "metadata": {
    "id": "nlxPksBMwv5b"
   },
   "outputs": [],
   "source": [
    "cnn.add(tf.keras.layers.Conv2D(filters=32, kernel_size=3, activation='relu'))"
   ]
  },
  {
   "cell_type": "code",
   "execution_count": 8,
   "metadata": {
    "id": "bw4yELTCwwCc"
   },
   "outputs": [],
   "source": [
    "cnn.add(tf.keras.layers.MaxPool2D(pool_size=2, strides=2))"
   ]
  },
  {
   "cell_type": "code",
   "execution_count": 9,
   "metadata": {
    "id": "H7uxDEYMwwJ8"
   },
   "outputs": [],
   "source": [
    "cnn.add(tf.keras.layers.Flatten())"
   ]
  },
  {
   "cell_type": "code",
   "execution_count": 10,
   "metadata": {
    "id": "pnxWwSO5wwRk"
   },
   "outputs": [],
   "source": [
    "cnn.add(tf.keras.layers.Dense(units=128, activation='relu'))\n",
    "cnn.add(tf.keras.layers.Dense(units=1, activation='sigmoid'))"
   ]
  },
  {
   "cell_type": "code",
   "execution_count": 11,
   "metadata": {
    "id": "PoYm7FDXwQ1F"
   },
   "outputs": [
    {
     "name": "stdout",
     "output_type": "stream",
     "text": [
      "Model: \"sequential\"\n",
      "_________________________________________________________________\n",
      "Layer (type)                 Output Shape              Param #   \n",
      "=================================================================\n",
      "conv2d (Conv2D)              (None, 62, 62, 32)        896       \n",
      "_________________________________________________________________\n",
      "max_pooling2d (MaxPooling2D) (None, 31, 31, 32)        0         \n",
      "_________________________________________________________________\n",
      "conv2d_1 (Conv2D)            (None, 29, 29, 32)        9248      \n",
      "_________________________________________________________________\n",
      "max_pooling2d_1 (MaxPooling2 (None, 14, 14, 32)        0         \n",
      "_________________________________________________________________\n",
      "flatten (Flatten)            (None, 6272)              0         \n",
      "_________________________________________________________________\n",
      "dense (Dense)                (None, 128)               802944    \n",
      "_________________________________________________________________\n",
      "dense_1 (Dense)              (None, 1)                 129       \n",
      "=================================================================\n",
      "Total params: 813,217\n",
      "Trainable params: 813,217\n",
      "Non-trainable params: 0\n",
      "_________________________________________________________________\n"
     ]
    }
   ],
   "source": [
    "cnn.summary()"
   ]
  },
  {
   "cell_type": "markdown",
   "metadata": {
    "id": "gp63PC10vfOc"
   },
   "source": [
    "### Training CNN on Training set"
   ]
  },
  {
   "cell_type": "code",
   "execution_count": 12,
   "metadata": {
    "id": "7Iiuj0qDvo5s"
   },
   "outputs": [],
   "source": [
    "cnn.compile(optimizer = 'adam', loss = 'binary_crossentropy', metrics = ['accuracy'])"
   ]
  },
  {
   "cell_type": "code",
   "execution_count": 13,
   "metadata": {
    "id": "4NtZ_WEBwoGt"
   },
   "outputs": [
    {
     "name": "stdout",
     "output_type": "stream",
     "text": [
      "Epoch 1/25\n",
      "5/5 [==============================] - 7s 1s/step - loss: 0.8568 - accuracy: 0.3919 - val_loss: 0.6992 - val_accuracy: 0.5000\n",
      "Epoch 2/25\n",
      "5/5 [==============================] - 5s 1s/step - loss: 0.6858 - accuracy: 0.5000 - val_loss: 0.6683 - val_accuracy: 0.5000\n",
      "Epoch 3/25\n",
      "5/5 [==============================] - 5s 1s/step - loss: 0.6682 - accuracy: 0.5000 - val_loss: 0.6209 - val_accuracy: 0.7000\n",
      "Epoch 4/25\n",
      "5/5 [==============================] - 5s 1s/step - loss: 0.6311 - accuracy: 0.6757 - val_loss: 0.5402 - val_accuracy: 0.9750\n",
      "Epoch 5/25\n",
      "5/5 [==============================] - 5s 1s/step - loss: 0.5777 - accuracy: 0.8378 - val_loss: 0.4326 - val_accuracy: 0.9000\n",
      "Epoch 6/25\n",
      "5/5 [==============================] - 5s 1s/step - loss: 0.4922 - accuracy: 0.8108 - val_loss: 0.2720 - val_accuracy: 1.0000\n",
      "Epoch 7/25\n",
      "5/5 [==============================] - 5s 1s/step - loss: 0.4096 - accuracy: 0.8581 - val_loss: 0.2035 - val_accuracy: 0.9500\n",
      "Epoch 8/25\n",
      "5/5 [==============================] - 5s 1s/step - loss: 0.4103 - accuracy: 0.8311 - val_loss: 0.1709 - val_accuracy: 0.9500\n",
      "Epoch 9/25\n",
      "5/5 [==============================] - 6s 1s/step - loss: 0.3882 - accuracy: 0.8446 - val_loss: 0.1703 - val_accuracy: 0.9500\n",
      "Epoch 10/25\n",
      "5/5 [==============================] - 6s 1s/step - loss: 0.3516 - accuracy: 0.8446 - val_loss: 0.1123 - val_accuracy: 0.9500\n",
      "Epoch 11/25\n",
      "5/5 [==============================] - 5s 1s/step - loss: 0.3263 - accuracy: 0.8446 - val_loss: 0.0957 - val_accuracy: 1.0000\n",
      "Epoch 12/25\n",
      "5/5 [==============================] - 5s 1s/step - loss: 0.2890 - accuracy: 0.8784 - val_loss: 0.1017 - val_accuracy: 0.9750\n",
      "Epoch 13/25\n",
      "5/5 [==============================] - 5s 1s/step - loss: 0.2365 - accuracy: 0.8986 - val_loss: 0.1048 - val_accuracy: 1.0000\n",
      "Epoch 14/25\n",
      "5/5 [==============================] - 6s 1s/step - loss: 0.3047 - accuracy: 0.8514 - val_loss: 0.1282 - val_accuracy: 0.9500\n",
      "Epoch 15/25\n",
      "5/5 [==============================] - 5s 1s/step - loss: 0.2557 - accuracy: 0.8919 - val_loss: 0.1060 - val_accuracy: 0.9750\n",
      "Epoch 16/25\n",
      "5/5 [==============================] - 5s 1s/step - loss: 0.1962 - accuracy: 0.9257 - val_loss: 0.1264 - val_accuracy: 0.9500\n",
      "Epoch 17/25\n",
      "5/5 [==============================] - 5s 1s/step - loss: 0.2042 - accuracy: 0.9054 - val_loss: 0.0879 - val_accuracy: 0.9750\n",
      "Epoch 18/25\n",
      "5/5 [==============================] - 5s 1s/step - loss: 0.2169 - accuracy: 0.9122 - val_loss: 0.1017 - val_accuracy: 0.9750\n",
      "Epoch 19/25\n",
      "5/5 [==============================] - 5s 1s/step - loss: 0.1768 - accuracy: 0.9392 - val_loss: 0.0915 - val_accuracy: 0.9750\n",
      "Epoch 20/25\n",
      "5/5 [==============================] - 5s 1s/step - loss: 0.1537 - accuracy: 0.9662 - val_loss: 0.1030 - val_accuracy: 0.9750\n",
      "Epoch 21/25\n",
      "5/5 [==============================] - 6s 1s/step - loss: 0.1961 - accuracy: 0.9054 - val_loss: 0.0786 - val_accuracy: 0.9750\n",
      "Epoch 22/25\n",
      "5/5 [==============================] - 5s 1s/step - loss: 0.1714 - accuracy: 0.9189 - val_loss: 0.0977 - val_accuracy: 0.9750\n",
      "Epoch 23/25\n",
      "5/5 [==============================] - 5s 1s/step - loss: 0.1856 - accuracy: 0.9122 - val_loss: 0.1064 - val_accuracy: 0.9500\n",
      "Epoch 24/25\n",
      "5/5 [==============================] - 5s 1s/step - loss: 0.1855 - accuracy: 0.9189 - val_loss: 0.0781 - val_accuracy: 0.9750\n",
      "Epoch 25/25\n",
      "5/5 [==============================] - 5s 1s/step - loss: 0.1674 - accuracy: 0.9527 - val_loss: 0.0873 - val_accuracy: 0.9750\n"
     ]
    }
   ],
   "source": [
    "hist = cnn.fit(x = training_set, validation_data = test_set, epochs = 25)"
   ]
  },
  {
   "cell_type": "markdown",
   "metadata": {
    "id": "gCBYP9R5xluM"
   },
   "source": [
    "### Visualizing results"
   ]
  },
  {
   "cell_type": "code",
   "execution_count": 14,
   "metadata": {
    "id": "eEn1f1tWwoZU"
   },
   "outputs": [
    {
     "data": {
      "image/png": "[encoded data removed]",
      "text/plain": [
       "<Figure size 1080x360 with 2 Axes>"
      ]
     },
     "metadata": {
      "needs_background": "light"
     },
     "output_type": "display_data"
    }
   ],
   "source": [
    "plt.figure(1, figsize = (15, 5))\n",
    "plt.subplot(1,2,1)\n",
    "plt.xlabel(\"Epochs\")\n",
    "plt.ylabel(\"Loss\")\n",
    "plt.plot( hist.history[\"loss\"], label = \"Training Loss\")\n",
    "plt.plot( hist.history[\"val_loss\"], label = \"Validation Loss\")\n",
    "plt.grid(True)\n",
    "plt.legend()\n",
    "\n",
    "plt.subplot(1,2,2)\n",
    "plt.xlabel(\"Epochs\")\n",
    "plt.ylabel(\"Accuracy\")\n",
    "plt.plot( hist.history[\"accuracy\"], label = \"Training Accuracy\")\n",
    "plt.plot( hist.history[\"val_accuracy\"], label = \"Validation Accuracy\")\n",
    "plt.grid(True)\n",
    "plt.legend()\n",
    "plt.show()"
   ]
  },
  {
   "cell_type": "markdown",
   "metadata": {
    "id": "YZ3YBjA6vy59"
   },
   "source": [
    "### Making a single Prediction"
   ]
  },
  {
   "cell_type": "code",
   "execution_count": 15,
   "metadata": {
    "id": "CPTCDVS3v2h0"
   },
   "outputs": [],
   "source": [
    "import numpy as np\n",
    "from keras.preprocessing import image\n",
    "test_image = image.load_img('xray_dataset_covid19/single_prediction/Normal.jpg', target_size = (64, 64))\n",
    "test_image = image.img_to_array(test_image)\n",
    "test_image = np.expand_dims(test_image, axis = 0)\n",
    "result = cnn.predict(test_image)\n",
    "training_set.class_indices\n",
    "if result[0][0] == 1:\n",
    "    prediction = 'Pneumonia'\n",
    "else:\n",
    "    prediction = 'Normal'"
   ]
  },
  {
   "cell_type": "code",
   "execution_count": 16,
   "metadata": {},
   "outputs": [
    {
     "name": "stdout",
     "output_type": "stream",
     "text": [
      "Normal\n"
     ]
    }
   ],
   "source": [
    "print(prediction)"
   ]
  },
  {
   "cell_type": "code",
   "execution_count": 17,
   "metadata": {
    "id": "SlJr8ry32l_C"
   },
   "outputs": [],
   "source": [
    "import numpy as np\n",
    "from keras.preprocessing import image\n",
    "test_image = image.load_img('xray_dataset_covid19/single_prediction/pneumonia.jpeg', target_size = (64, 64))\n",
    "test_image = image.img_to_array(test_image)\n",
    "test_image = np.expand_dims(test_image, axis = 0)\n",
    "result = cnn.predict(test_image)\n",
    "training_set.class_indices\n",
    "if result[0][0] == 1:\n",
    "    prediction = 'Pneumonia'\n",
    "else:\n",
    "    prediction = 'Normal'"
   ]
  },
  {
   "cell_type": "code",
   "execution_count": 18,
   "metadata": {},
   "outputs": [
    {
     "name": "stdout",
     "output_type": "stream",
     "text": [
      "Pneumonia\n"
     ]
    }
   ],
   "source": [
    "print(prediction)"
   ]
  }
 ],
 "metadata": {
  "colab": {
   "collapsed_sections": [],
   "name": "COVID-19 CNN Pneumonia Detector.ipynb",
   "provenance": []
  },
  "kernelspec": {
   "display_name": "Python 3",
   "language": "python",
   "name": "python3"
  },
  "language_info": {
   "codemirror_mode": {
    "name": "ipython",
    "version": 3
   },
   "file_extension": ".py",
   "mimetype": "text/x-python",
   "name": "python",
   "nbconvert_exporter": "python",
   "pygments_lexer": "ipython3",
   "version": "3.8.5"
  }
 },
 "nbformat": 4,
 "nbformat_minor": 1
}
